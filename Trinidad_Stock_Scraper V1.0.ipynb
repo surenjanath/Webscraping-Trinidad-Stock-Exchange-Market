{
 "cells": [
  {
   "cell_type": "code",
   "execution_count": 1,
   "metadata": {},
   "outputs": [
    {
     "name": "stdout",
     "output_type": "stream",
     "text": [
      "[*] Number of Equities and Bonds :  61\n",
      "[{'idsector': '7', 'idsegment': '3', 'sector': 'BANKING', 'type': 'Equity', 'segment': 'FIRST-TIER', 'status': 'I', 'iname': 'FIRST CITIZENS BANK LIMITED', 'icode': 'FIRST', 'link': 'https://www.stockex.co.tt/manage-stock/first/', 'matured': 'DeListed'}, {'idsector': '7', 'idsegment': '3', 'sector': 'BANKING', 'type': 'Equity', 'segment': 'FIRST-TIER', 'status': 'A', 'iname': 'FIRSTCARIBBEAN INTERNATIONAL BANK LIMITED', 'icode': 'FCI', 'link': 'https://www.stockex.co.tt/manage-stock/fci/', 'matured': 'Active'}, {'idsector': '7', 'idsegment': '3', 'sector': 'BANKING', 'type': 'Equity', 'segment': 'FIRST-TIER', 'status': 'A', 'iname': 'FIRST CITIZENS GROUP FINANCIAL HOLDINGS LIMITED', 'icode': 'FCGFH', 'link': 'https://www.stockex.co.tt/manage-stock/fcgfh/', 'matured': 'Active'}, {'idsector': '7', 'idsegment': '3', 'sector': 'BANKING', 'type': 'Equity', 'segment': 'FIRST-TIER', 'status': 'A', 'iname': 'NCB FINANCIAL GROUP LIMITED', 'icode': 'NCBFG', 'link': 'https://www.stockex.co.tt/manage-stock/ncbfg/', 'matured': 'Active'}, {'idsector': '7', 'idsegment': '3', 'sector': 'BANKING', 'type': 'Equity', 'segment': 'FIRST-TIER', 'status': 'A', 'iname': 'REPUBLIC FINANCIAL HOLDINGS LIMITED', 'icode': 'RFHL', 'link': 'https://www.stockex.co.tt/manage-stock/rfhl/', 'matured': 'Active'}, {'idsector': '7', 'idsegment': '3', 'sector': 'BANKING', 'type': 'Equity', 'segment': 'FIRST-TIER', 'status': 'A', 'iname': 'SCOTIABANK TRINIDAD & TOBAGO LIMITED', 'icode': 'SBTT', 'link': 'https://www.stockex.co.tt/manage-stock/sbtt/', 'matured': 'Active'}, {'idsector': '5', 'idsegment': '3', 'sector': 'CONGLOMERATES', 'type': 'Equity', 'segment': 'FIRST-TIER', 'status': 'A', 'iname': 'ANSA McAL LIMITED', 'icode': 'AMCL', 'link': 'https://www.stockex.co.tt/manage-stock/amcl/', 'matured': 'Active'}, {'idsector': '5', 'idsegment': '3', 'sector': 'CONGLOMERATES', 'type': 'Equity', 'segment': 'FIRST-TIER', 'status': 'A', 'iname': 'GRACEKENNEDY LIMITED', 'icode': 'GKC', 'link': 'https://www.stockex.co.tt/manage-stock/gkc/', 'matured': 'Active'}, {'idsector': '5', 'idsegment': '3', 'sector': 'CONGLOMERATES', 'type': 'Equity', 'segment': 'FIRST-TIER', 'status': 'A', 'iname': 'MASSY HOLDINGS LTD.', 'icode': 'MASSY', 'link': 'https://www.stockex.co.tt/manage-stock/massy/', 'matured': 'Active'}, {'idsector': '9', 'idsegment': '3', 'sector': 'ENERGY', 'type': 'Equity', 'segment': 'FIRST-TIER', 'status': 'A', 'iname': 'TRINIDAD AND TOBAGO NGL LIMITED', 'icode': 'NGL', 'link': 'https://www.stockex.co.tt/manage-stock/ngl/', 'matured': 'Active'}, {'idsector': '2', 'idsegment': '3', 'sector': 'MANUFACTURING I', 'type': 'Equity', 'segment': 'FIRST-TIER', 'status': 'A', 'iname': 'ANGOSTURA HOLDINGS LIMITED', 'icode': 'AHL', 'link': 'https://www.stockex.co.tt/manage-stock/ahl/', 'matured': 'Active'}, {'idsector': '2', 'idsegment': '3', 'sector': 'MANUFACTURING I', 'type': 'Equity', 'segment': 'FIRST-TIER', 'status': 'A', 'iname': 'GUARDIAN MEDIA LIMITED', 'icode': 'GML', 'link': 'https://www.stockex.co.tt/manage-stock/gml/', 'matured': 'Active'}, {'idsector': '2', 'idsegment': '3', 'sector': 'MANUFACTURING I', 'type': 'Equity', 'segment': 'FIRST-TIER', 'status': 'A', 'iname': 'NATIONAL FLOUR MILLS LIMITED', 'icode': 'NFM', 'link': 'https://www.stockex.co.tt/manage-stock/nfm/', 'matured': 'Active'}, {'idsector': '2', 'idsegment': '3', 'sector': 'MANUFACTURING I', 'type': 'Equity', 'segment': 'FIRST-TIER', 'status': 'A', 'iname': 'ONE CARIBBEAN MEDIA LIMITED', 'icode': 'OCM', 'link': 'https://www.stockex.co.tt/manage-stock/ocm/', 'matured': 'Active'}, {'idsector': '2', 'idsegment': '3', 'sector': 'MANUFACTURING I', 'type': 'Equity', 'segment': 'FIRST-TIER', 'status': 'A', 'iname': 'THE WEST INDIAN TOBACCO COMPANY LIMITED', 'icode': 'WCO', 'link': 'https://www.stockex.co.tt/manage-stock/wco/', 'matured': 'Active'}, {'idsector': '2', 'idsegment': '3', 'sector': 'MANUFACTURING I', 'type': 'Equity', 'segment': 'FIRST-TIER', 'status': 'A', 'iname': 'UNILEVER CARIBBEAN LIMITED', 'icode': 'UCL', 'link': 'https://www.stockex.co.tt/manage-stock/ucl/', 'matured': 'Active'}, {'idsector': '6', 'idsegment': '3', 'sector': 'MANUFACTURING II', 'type': 'Equity', 'segment': 'FIRST-TIER', 'status': 'A', 'iname': 'TRINIDAD CEMENT LIMITED', 'icode': 'TCL', 'link': 'https://www.stockex.co.tt/manage-stock/tcl/', 'matured': 'Active'}, {'idsector': '4', 'idsegment': '3', 'sector': 'NON-BANKING FINANCE', 'type': 'Equity', 'segment': 'FIRST-TIER', 'status': 'A', 'iname': 'ANSA MERCHANT BANK LIMITED', 'icode': 'AMBL', 'link': 'https://www.stockex.co.tt/manage-stock/ambl/', 'matured': 'Active'}, {'idsector': '4', 'idsegment': '3', 'sector': 'NON-BANKING FINANCE', 'type': 'Equity', 'segment': 'FIRST-TIER', 'status': 'A', 'iname': 'GUARDIAN HOLDINGS LIMITED', 'icode': 'GHL', 'link': 'https://www.stockex.co.tt/manage-stock/ghl/', 'matured': 'Active'}, {'idsector': '4', 'idsegment': '3', 'sector': 'NON-BANKING FINANCE', 'type': 'Equity', 'segment': 'FIRST-TIER', 'status': 'A', 'iname': 'JMMB GROUP LIMITED', 'icode': 'JMMBGL', 'link': 'https://www.stockex.co.tt/manage-stock/jmmbgl/', 'matured': 'Active'}, {'idsector': '4', 'idsegment': '3', 'sector': 'NON-BANKING FINANCE', 'type': 'Equity', 'segment': 'FIRST-TIER', 'status': 'A', 'iname': 'NATIONAL ENTERPRISES LIMITED', 'icode': 'NEL', 'link': 'https://www.stockex.co.tt/manage-stock/nel/', 'matured': 'Active'}, {'idsector': '4', 'idsegment': '3', 'sector': 'NON-BANKING FINANCE', 'type': 'Equity', 'segment': 'FIRST-TIER', 'status': 'I', 'iname': 'SAGICOR FINANCIAL CORPORATION LIMITED', 'icode': 'SFC', 'link': 'https://www.stockex.co.tt/manage-stock/sfc/', 'matured': 'Active'}, {'idsector': '-1', 'idsegment': '6', 'sector': 'NON-SECTOR', 'type': 'Equity', 'segment': 'TTD MUTUAL FUND', 'status': 'A', 'iname': 'CALYPSO MACRO INDEX FUND', 'icode': 'CALYP', 'link': 'https://www.stockex.co.tt/manage-stock/calyp/', 'matured': 'Active'}, {'idsector': '-1', 'idsegment': '26', 'sector': 'NON-SECTOR', 'type': 'Equity', 'segment': 'SME', 'status': 'A', 'iname': 'CINEMAONE LIMITED', 'icode': 'CINE1', 'link': 'https://www.stockex.co.tt/manage-stock/cine1/', 'matured': 'Active'}, {'idsector': '-1', 'idsegment': '6', 'sector': 'NON-SECTOR', 'type': 'Equity', 'segment': 'TTD MUTUAL FUND', 'status': 'D', 'iname': 'CLICO INVESTMENT FUND', 'icode': 'CIF', 'link': 'https://www.stockex.co.tt/manage-stock/cif/', 'matured': 'Active'}, {'idsector': '-1', 'idsegment': '26', 'sector': 'NON-SECTOR', 'type': 'Equity', 'segment': 'SME', 'status': 'A', 'iname': 'ENDEAVOUR HOLDINGS LIMITED', 'icode': 'EHL', 'link': 'https://www.stockex.co.tt/manage-stock/ehl/', 'matured': 'Active'}, {'idsector': '-1', 'idsegment': '6', 'sector': 'NON-SECTOR', 'type': 'Equity', 'segment': 'TTD MUTUAL FUND', 'status': 'A', 'iname': 'EPPLEY CARIBBEAN PROPERTY FUND LIMITED SCC DEVELOPMENT FUND', 'icode': 'CPFD', 'link': 'https://www.stockex.co.tt/manage-stock/cpfd/', 'matured': 'Active'}, {'idsector': '-1', 'idsegment': '6', 'sector': 'NON-SECTOR', 'type': 'Equity', 'segment': 'TTD MUTUAL FUND', 'status': 'A', 'iname': 'EPPLEY CARIBBEAN PROPERTY FUND LIMITED SCC VALUE FUND', 'icode': 'CPFV', 'link': 'https://www.stockex.co.tt/manage-stock/cpfv/', 'matured': 'Active'}, {'idsector': '8', 'idsegment': '3', 'sector': 'NON-SECTOR', 'type': 'Equity', 'segment': 'FIRST-TIER', 'status': 'A', 'iname': 'GUARDIAN MEDIA LIMITED 6% PREFERENCE', 'icode': 'GMLP', 'link': 'https://www.stockex.co.tt/manage-stock/gmlp/', 'matured': 'Active'}, {'idsector': '8', 'idsegment': '3', 'sector': 'NON-SECTOR', 'type': 'Equity', 'segment': 'FIRST-TIER', 'status': 'A', 'iname': 'L.J. WILLIAMS LIMITED $5 8% PREFERENCE', 'icode': 'LJWP', 'link': 'https://www.stockex.co.tt/manage-stock/ljwp/', 'matured': 'Active'}, {'idsector': '8', 'idsegment': '3', 'sector': 'NON-SECTOR', 'type': 'Equity', 'segment': 'FIRST-TIER', 'status': 'A', 'iname': 'L.J. WILLIAMS LIMITED, \"A\"', 'icode': 'LJWA', 'link': 'https://www.stockex.co.tt/manage-stock/ljwa/', 'matured': 'Active'}, {'idsector': '-1', 'idsegment': '4', 'sector': 'NON-SECTOR', 'type': 'Equity', 'segment': 'SECOND-TIER', 'status': 'D', 'iname': 'MORA VEN HOLDINGS LIMITED', 'icode': 'MOV', 'link': 'https://www.stockex.co.tt/manage-stock/mov/', 'matured': 'Active'}, {'idsector': '-1', 'idsegment': '24', 'sector': 'NON-SECTOR', 'type': 'Equity', 'segment': 'USD EQUITIES', 'status': 'A', 'iname': 'MPC CARIBBEAN CLEAN ENERGY LIMITED ', 'icode': 'MPCCEL', 'link': 'https://www.stockex.co.tt/manage-stock/mpccel/', 'matured': 'Active'}, {'idsector': '-1', 'idsegment': '6', 'sector': 'NON-SECTOR', 'type': 'Equity', 'segment': 'TTD MUTUAL FUND', 'status': 'I', 'iname': 'PRAETORIAN PROPERTY MUTUAL FUND', 'icode': 'PPMF', 'link': 'https://www.stockex.co.tt/manage-stock/ppmf/', 'matured': 'Active'}, {'idsector': '10', 'idsegment': '3', 'sector': 'PROPERTY', 'type': 'Equity', 'segment': 'FIRST-TIER', 'status': 'A', 'iname': 'POINT LISAS INDUSTRIAL PORT DEVELOPMENT CORPORATION LIMITED', 'icode': 'PLD', 'link': 'https://www.stockex.co.tt/manage-stock/pld/', 'matured': 'Active'}, {'idsector': '3', 'idsegment': '3', 'sector': 'TRADING', 'type': 'Equity', 'segment': 'FIRST-TIER', 'status': 'A', 'iname': \"AGOSTINI'S LIMITED\", 'icode': 'AGL', 'link': 'https://www.stockex.co.tt/manage-stock/agl/', 'matured': 'Active'}, {'idsector': '3', 'idsegment': '3', 'sector': 'TRADING', 'type': 'Equity', 'segment': 'FIRST-TIER', 'status': 'A', 'iname': 'L.J. WILLIAMS LIMITED, \"B\"', 'icode': 'LJWB', 'link': 'https://www.stockex.co.tt/manage-stock/ljwb/', 'matured': 'Active'}, {'idsector': '3', 'idsegment': '3', 'sector': 'TRADING', 'type': 'Equity', 'segment': 'FIRST-TIER', 'status': 'A', 'iname': 'PRESTIGE HOLDINGS LIMITED', 'icode': 'PHL', 'link': 'https://www.stockex.co.tt/manage-stock/phl/', 'matured': 'Active'}, {'idsector': '1', 'idsegment': '22', 'sector': 'BONDS', 'type': 'Bonds', 'segment': 'GOVERNMENT BONDS', 'status': 'A', 'iname': '$1,000M GORTT 2.20% 27.06.2021 ', 'icode': 'F272', 'link': 'https://www.stockex.co.tt/manage-bond/f272/', 'matured': 'Matured'}, {'idsector': '1', 'idsegment': '22', 'sector': 'BONDS', 'type': 'Bonds', 'segment': 'GOVERNMENT BONDS', 'status': 'A', 'iname': '$702.867 Million Government of Trinidad & Tobago 4.25% 31.10.2037', 'icode': 'J314', 'link': 'https://www.stockex.co.tt/manage-bond/j314/', 'matured': 'Active'}, {'idsector': '1', 'idsegment': '22', 'sector': 'BONDS', 'type': 'Bonds', 'segment': 'GOVERNMENT BONDS', 'status': 'A', 'iname': '$1,000M GORTT 2.60% 21.05.2020 ', 'icode': 'E210', 'link': 'https://www.stockex.co.tt/manage-bond/e210/', 'matured': 'Matured'}, {'idsector': '1', 'idsegment': '22', 'sector': 'BONDS', 'type': 'Bonds', 'segment': 'GOVERNMENT BONDS', 'status': 'A', 'iname': '$1,000M GORTT 4.10% 14.02.2025 ', 'icode': 'B148', 'link': 'https://www.stockex.co.tt/manage-bond/b148/', 'matured': 'Active'}, {'idsector': '1', 'idsegment': '22', 'sector': 'BONDS', 'type': 'Bonds', 'segment': 'GOVERNMENT BONDS', 'status': 'A', 'iname': '$1,000M GORTT 4.50% 16.05.2028', 'icode': 'E163', 'link': 'https://www.stockex.co.tt/manage-bond/e163/', 'matured': 'Active'}, {'idsector': '1', 'idsegment': '22', 'sector': 'BONDS', 'type': 'Bonds', 'segment': 'GOVERNMENT BONDS', 'status': 'A', 'iname': '$1,000M GORTT 6.70% 04.02.2029 ', 'icode': 'B048', 'link': 'https://www.stockex.co.tt/manage-bond/b048/', 'matured': 'Active'}, {'idsector': '1', 'idsegment': '22', 'sector': 'BONDS', 'type': 'Bonds', 'segment': 'GOVERNMENT BONDS', 'status': 'A', 'iname': '$1,000M GORTT 6.80% 04.02.2031 ', 'icode': 'B040', 'link': 'https://www.stockex.co.tt/manage-bond/b040/', 'matured': 'Active'}, {'idsector': '1', 'idsegment': '21', 'sector': 'BONDS', 'type': 'Bonds', 'segment': 'CORPORATE BONDS', 'status': 'A', 'iname': '$1,200M NIF SERIES A 4.50% 09.08.2023', 'icode': 'NIF090823', 'link': 'https://www.stockex.co.tt/manage-bond/nif090823/', 'matured': 'Active'}, {'idsector': '1', 'idsegment': '21', 'sector': 'BONDS', 'type': 'Bonds', 'segment': 'CORPORATE BONDS', 'status': 'A', 'iname': '$1,200M NIF SERIES C 6.60% 09.08.2038', 'icode': 'NIF090838', 'link': 'https://www.stockex.co.tt/manage-bond/nif090838/', 'matured': 'Active'}, {'idsector': '1', 'idsegment': '22', 'sector': 'BONDS', 'type': 'Bonds', 'segment': 'GOVERNMENT BONDS', 'status': 'A', 'iname': '$1,399.8M GORTT 6.60% 04.02.2027 ', 'icode': 'B046', 'link': 'https://www.stockex.co.tt/manage-bond/b046/', 'matured': 'Active'}, {'idsector': '1', 'idsegment': '22', 'sector': 'BONDS', 'type': 'Bonds', 'segment': 'GOVERNMENT BONDS', 'status': 'A', 'iname': '$1,451.841M GORTT 2.80% 23.09.2026', 'icode': 'I234', 'link': 'https://www.stockex.co.tt/manage-bond/i234/', 'matured': 'Active'}, {'idsector': '1', 'idsegment': '22', 'sector': 'BONDS', 'type': 'Bonds', 'segment': 'GOVERNMENT BONDS', 'status': 'A', 'iname': '$1,500M GORTT 6.00% 22.11.2031', 'icode': 'K225', 'link': 'https://www.stockex.co.tt/manage-bond/k225/', 'matured': 'Active'}, {'idsector': '1', 'idsegment': '22', 'sector': 'BONDS', 'type': 'Bonds', 'segment': 'GOVERNMENT BONDS', 'status': 'A', 'iname': '$1,500M GORTT 7.75% 23.04.2024 ', 'icode': 'D233', 'link': 'https://www.stockex.co.tt/manage-bond/d233/', 'matured': 'Active'}, {'idsector': '1', 'idsegment': '21', 'sector': 'BONDS', 'type': 'Bonds', 'segment': 'CORPORATE BONDS', 'status': 'A', 'iname': '$1,600M NIF SERIES B 5.70% 09.08.2030', 'icode': 'NIF090830', 'link': 'https://www.stockex.co.tt/manage-bond/nif090830/', 'matured': 'Active'}, {'idsector': '1', 'idsegment': '22', 'sector': 'BONDS', 'type': 'Bonds', 'segment': 'GOVERNMENT BONDS', 'status': 'A', 'iname': '$2,500M GORTT 5.20% 27.09.2027', 'icode': 'I276', 'link': 'https://www.stockex.co.tt/manage-bond/i276/', 'matured': 'Active'}, {'idsector': '1', 'idsegment': '22', 'sector': 'BONDS', 'type': 'Bonds', 'segment': 'GOVERNMENT BONDS', 'status': 'D', 'iname': '$300M GORTT 6.10% 22.09.2019', 'icode': 'I224', 'link': 'https://www.stockex.co.tt/manage-bond/i224/', 'matured': 'Active'}, {'idsector': '1', 'idsegment': '22', 'sector': 'BONDS', 'type': 'Bonds', 'segment': 'GOVERNMENT BONDS', 'status': 'D', 'iname': '$300M GORTT 6.15% 03.08.2019', 'icode': 'H037', 'link': 'https://www.stockex.co.tt/manage-bond/h037/', 'matured': 'Active'}, {'idsector': '1', 'idsegment': '22', 'sector': 'BONDS', 'type': 'Bonds', 'segment': 'GOVERNMENT BONDS', 'status': 'A', 'iname': '$300M GORTT 6.75% 30.09.2022', 'icode': 'I301', 'link': 'https://www.stockex.co.tt/manage-bond/i301/', 'matured': 'Matured'}, {'idsector': '1', 'idsegment': '22', 'sector': 'BONDS', 'type': 'Bonds', 'segment': 'GOVERNMENT BONDS', 'status': 'A', 'iname': '$500M GORTT 3.80% 19.12.2022', 'icode': 'L197', 'link': 'https://www.stockex.co.tt/manage-bond/l197/', 'matured': 'Matured'}, {'idsector': '1', 'idsegment': '22', 'sector': 'BONDS', 'type': 'Bonds', 'segment': 'GOVERNMENT BONDS', 'status': 'A', 'iname': '$559.271M GORTT 2.50% 06.08.2023', 'icode': 'H062', 'link': 'https://www.stockex.co.tt/manage-bond/h062/', 'matured': 'Active'}, {'idsector': '1', 'idsegment': '22', 'sector': 'BONDS', 'type': 'Bonds', 'segment': 'GOVERNMENT BONDS', 'status': 'A', 'iname': '$600M GORTT 6.40% 30.06.2020 ', 'icode': 'F300', 'link': 'https://www.stockex.co.tt/manage-bond/f300/', 'matured': 'Matured'}, {'idsector': '1', 'idsegment': '22', 'sector': 'BONDS', 'type': 'Bonds', 'segment': 'GOVERNMENT BONDS', 'status': 'A', 'iname': '$600M GORTT 6.50% 09.02.2025 ', 'icode': 'B093', 'link': 'https://www.stockex.co.tt/manage-bond/b093/', 'matured': 'Active'}, {'idsector': '1', 'idsegment': '22', 'sector': 'BONDS', 'type': 'Bonds', 'segment': 'GOVERNMENT BONDS', 'status': 'A', 'iname': '$794M GORTT 5.95% 20.04.2023 ', 'icode': 'D206', 'link': 'https://www.stockex.co.tt/manage-bond/d206/', 'matured': 'Active'}]\n"
     ]
    }
   ],
   "source": [
    "import requests\n",
    "from bs4 import BeautifulSoup as bs\n",
    "import re\n",
    "import json\n",
    "\n",
    "session = requests.Session()\n",
    "\n",
    "URL = 'https://www.stockex.co.tt/listed-securities/'\n",
    "headers = {\n",
    "    'user-agent': 'Mozilla/5.0 (Windows NT 10.0; Win64; x64) AppleWebKit/537.36 (KHTML, like Gecko) Chrome/110.0.0.0 Safari/537.36'\n",
    "}\n",
    "\n",
    "r = session.get(URL, headers=headers)\n",
    "if r.status_code == 200 : \n",
    "    soup = bs(r.content, 'lxml')\n",
    "    scrp = soup.findAll('script')\n",
    "\n",
    "    pattern = re.compile('(var.?equities.*=)')\n",
    "    data = []\n",
    "    for script in scrp:\n",
    "        if(len(pattern.findall(script.text))>0):\n",
    "            strng_eq = script.string.replace('\\n','').replace('  ','').split(';')[0].split('var equities = ')[-1]\n",
    "            strng_bonds = script.string.replace('\\n','').replace('  ','').split(';')[1].split('var bonds = ')[-1]\n",
    "            \n",
    "            equities = json.loads(strng_eq)\n",
    "            bonds = json.loads(strng_bonds)\n",
    "            data = equities + bonds\n",
    "            break\n",
    "        else:\n",
    "            continue\n",
    "    print('[*] Number of Equities and Bonds : ', len(data))\n",
    "    print(data)\n",
    "else: print('[*] No Data')\n"
   ]
  },
  {
   "cell_type": "code",
   "execution_count": null,
   "metadata": {},
   "outputs": [],
   "source": [
    "import pandas as pd\n",
    "\n",
    "Stock_Df = []\n",
    "for i in data:\n",
    "    print('[*] Name : ', i['iname'])\n",
    "    print('[*] Code : ', i['icode'])\n",
    "    print('[*] Type : ', i['type'])\n",
    "    if i['type'] == 'Equity':\n",
    "        stock_type = 'stock'\n",
    "    else:\n",
    "        stock_type = 'bond'\n",
    "    stock_Code = i['icode']\n",
    "    N_URL = f'https://www.stockex.co.tt/manage-{stock_type}/{stock_Code}/'\n",
    "    \n",
    "    r = session.get(N_URL, headers=headers)\n",
    "    if r.status_code == 200 :\n",
    "        try:\n",
    "            df = pd.read_html(r.content)[2]\n",
    "            df['stock_Name'] = i['iname']\n",
    "            df['stock_Code'] = stock_Code\n",
    "            df['stock_type'] = stock_type\n",
    "            print('[*] Added......')\n",
    "            Stock_Df.append(df)\n",
    "        except Exception as e:\n",
    "            print(f'[*] Error : {e} on {stock_type}|{stock_Code}')\n",
    "    print('*'*50)\n",
    "    \n",
    "    df = pd.concat(Stock_Df)\n",
    "    # Save Scraped Data\n",
    "    df.to_excel('StockData.xlsx', index=False)"
   ]
  }
 ],
 "metadata": {
  "kernelspec": {
   "display_name": "Python 3",
   "language": "python",
   "name": "python3"
  },
  "language_info": {
   "codemirror_mode": {
    "name": "ipython",
    "version": 3
   },
   "file_extension": ".py",
   "mimetype": "text/x-python",
   "name": "python",
   "nbconvert_exporter": "python",
   "pygments_lexer": "ipython3",
   "version": "3.10.8"
  },
  "orig_nbformat": 4
 },
 "nbformat": 4,
 "nbformat_minor": 2
}
